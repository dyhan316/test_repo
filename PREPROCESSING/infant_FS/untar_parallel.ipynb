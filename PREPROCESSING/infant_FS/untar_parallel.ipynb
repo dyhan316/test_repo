{
 "cells": [
  {
   "cell_type": "code",
   "execution_count": 1,
   "metadata": {},
   "outputs": [],
   "source": [
    "import tarfile\n",
    "import os\n",
    "from multiprocessing import Process, Queue\n",
    "\n",
    "from pathlib import Path\n",
    "\n",
    "\n",
    "\n",
    "#def make_tarfile(output_filename, source_dir): \n",
    "#    with tarfile.open(output_filename, \"w:gz\") as tar: \n",
    "#        tar.add(source_dir, arcname=os.path.basename(source_dir)) \n",
    "#\n"
   ]
  },
  {
   "cell_type": "code",
   "execution_count": 4,
   "metadata": {},
   "outputs": [],
   "source": [
    "file_dir = \"/scratch/08834/tg881334/2019/3.FS_tar\" + \"/sub-NDARINV010ZM3H9.tar\"\n",
    "\n",
    "\n",
    "file = tarfile.open(file_dir)\n",
    "file.extractall('/scratch/08834/tg881334/2019/3.FS_tar')\n",
    "\n"
   ]
  },
  {
   "cell_type": "code",
   "execution_count": 15,
   "metadata": {},
   "outputs": [],
   "source": [
    "from multiprocessing import Pool, cpu_count \n",
    "tar_dir = \"/scratch/08834/tg881334/2019/3.FS_tar\""
   ]
  },
  {
   "cell_type": "code",
   "execution_count": 23,
   "metadata": {
    "scrolled": true
   },
   "outputs": [
    {
     "name": "stdout",
     "output_type": "stream",
     "text": [
      "========\n",
      "========\n",
      "========\n",
      "========\n",
      "========\n",
      "========\n",
      "========\n",
      "========\n",
      "========\n",
      "========\n",
      "========\n",
      "========\n",
      "========\n",
      "========\n",
      "========\n",
      "========\n",
      "========\n",
      "========\n",
      "========\n",
      "========\n",
      "========\n",
      "========\n",
      "========\n",
      "========\n",
      "========\n",
      "========\n",
      "========\n",
      "========\n",
      "========\n",
      "========\n",
      "========\n",
      "========\n",
      "========\n",
      "========\n",
      "========\n",
      "========\n",
      "========\n",
      "========\n",
      "========\n",
      "========\n",
      "========\n",
      "========\n",
      "========\n",
      "========\n",
      "========\n"
     ]
    }
   ],
   "source": [
    "from multiprocessing import Pool\n",
    "def extract_parallel(file_dir, destination = \"/scratch/08834/tg881334/2019/3.FS_tar\"):\n",
    "    #print(\"file_dir: \", file_dir)\n",
    "    file = tarfile.open(file_dir)\n",
    "    file.extractall(destination)\n",
    "\n",
    "n_cpu = 16\n",
    "\n",
    "p = Pool(n_cpu -1)\n",
    "\n",
    "\n",
    "tar_list = [os.path.join(tar_dir, file_dir) for file_dir in os.listdir(tar_dir)]\n",
    "for s in p.imap(extract_parallel, tar_list):\n",
    "    print(\"========\")\n",
    "    \n",
    "    \n",
    "    "
   ]
  },
  {
   "cell_type": "code",
   "execution_count": 24,
   "metadata": {},
   "outputs": [
    {
     "data": {
      "text/plain": [
       "['.git',\n",
       " 'tar_parallel.py',\n",
       " '[IMP]_run_fs.ipynb',\n",
       " 'step1_shell_outputs',\n",
       " 'untar_parallel.ipynb',\n",
       " 'step3_shell_outputs',\n",
       " 'step3_other_shells',\n",
       " 'run_script_icx_normal.sh',\n",
       " '.ipynb_checkpoints',\n",
       " '[IMP]making_BIDS_and_looking_at_data.ipynb',\n",
       " 'backup.ipynb',\n",
       " 'step1_fs_launcher.sh',\n",
       " 'icx_normal_fs_launcher.sh']"
      ]
     },
     "execution_count": 24,
     "metadata": {},
     "output_type": "execute_result"
    }
   ],
   "source": [
    "os.listdir()"
   ]
  },
  {
   "cell_type": "code",
   "execution_count": 27,
   "metadata": {},
   "outputs": [
    {
     "data": {
      "text/plain": [
       "'/scratch/08834/tg881334/2019/3.FS_tar'"
      ]
     },
     "execution_count": 27,
     "metadata": {},
     "output_type": "execute_result"
    }
   ],
   "source": [
    "tar_dir"
   ]
  },
  {
   "cell_type": "code",
   "execution_count": 28,
   "metadata": {},
   "outputs": [
    {
     "data": {
      "text/plain": [
       "['2.BIDS', '3.FS_tar', '4.fs_untar', '3.FS_tar_backup']"
      ]
     },
     "execution_count": 28,
     "metadata": {},
     "output_type": "execute_result"
    }
   ],
   "source": [
    "os.listdir(\"/scratch/08834/tg881334/2019/5.qsiprep_results/\")"
   ]
  },
  {
   "cell_type": "code",
   "execution_count": 18,
   "metadata": {
    "scrolled": true
   },
   "outputs": [
    {
     "data": {
      "text/plain": [
       "['/scratch/08834/tg881334/2019/3.FS_tar/sub-NDARINV0A6WVRZY.tar',\n",
       " '/scratch/08834/tg881334/2019/3.FS_tar/sub-NDARINV019DXLU4.tar',\n",
       " '/scratch/08834/tg881334/2019/3.FS_tar/sub-NDARINV01RGTWD2.tar',\n",
       " '/scratch/08834/tg881334/2019/3.FS_tar/sub-NDARINV01ELX9L6.tar',\n",
       " '/scratch/08834/tg881334/2019/3.FS_tar/sub-NDARINV01AJ15N9.tar',\n",
       " '/scratch/08834/tg881334/2019/3.FS_tar/sub-NDARINV0XTVAGV2.tar',\n",
       " '/scratch/08834/tg881334/2019/3.FS_tar/sub-NDARINV0XFVW4LF.tar',\n",
       " '/scratch/08834/tg881334/2019/3.FS_tar/sub-NDARINV0XU7Z6RH.tar',\n",
       " '/scratch/08834/tg881334/2019/3.FS_tar/sub-NDARINV0X59EG8X.tar',\n",
       " '/scratch/08834/tg881334/2019/3.FS_tar/sub-NDARINV0XTAYD1B.tar',\n",
       " '/scratch/08834/tg881334/2019/3.FS_tar/sub-NDARINV0ZTJ2432.tar',\n",
       " '/scratch/08834/tg881334/2019/3.FS_tar/sub-NDARINV0Y9F2PL1.tar',\n",
       " '/scratch/08834/tg881334/2019/3.FS_tar/sub-NDARINV0ZPPK2ML.tar',\n",
       " '/scratch/08834/tg881334/2019/3.FS_tar/sub-NDARINV0E1RBR9J.tar',\n",
       " '/scratch/08834/tg881334/2019/3.FS_tar/sub-NDARINV010ZM3H9.tar',\n",
       " '/scratch/08834/tg881334/2019/3.FS_tar/sub-NDARINV0E9UFT0K.tar',\n",
       " '/scratch/08834/tg881334/2019/3.FS_tar/sub-NDARINV01TXCDJN.tar',\n",
       " '/scratch/08834/tg881334/2019/3.FS_tar/sub-NDARINV0AAKGYA2.tar',\n",
       " '/scratch/08834/tg881334/2019/3.FS_tar/sub-NDARINV0APJMRD1.tar',\n",
       " '/scratch/08834/tg881334/2019/3.FS_tar/sub-NDARINV01D03VR7.tar',\n",
       " '/scratch/08834/tg881334/2019/3.FS_tar/sub-NDARINV0A9K5L4R.tar',\n",
       " '/scratch/08834/tg881334/2019/3.FS_tar/sub-NDARINV0EWGP0U5.tar',\n",
       " '/scratch/08834/tg881334/2019/3.FS_tar/sub-NDARINV0EXY6KFW.tar',\n",
       " '/scratch/08834/tg881334/2019/3.FS_tar/sub-NDARINV0XKVPBB0.tar',\n",
       " '/scratch/08834/tg881334/2019/3.FS_tar/sub-NDARINV01NAYMZH.tar',\n",
       " '/scratch/08834/tg881334/2019/3.FS_tar/sub-NDARINV0YVKYMJX.tar',\n",
       " '/scratch/08834/tg881334/2019/3.FS_tar/sub-NDARINV0YLLNXRL.tar',\n",
       " '/scratch/08834/tg881334/2019/3.FS_tar/sub-NDARINV0X02CUCY.tar',\n",
       " '/scratch/08834/tg881334/2019/3.FS_tar/sub-NDARINV0YLE20YZ.tar',\n",
       " '/scratch/08834/tg881334/2019/3.FS_tar/sub-NDARINV0YE7L9KU.tar',\n",
       " '/scratch/08834/tg881334/2019/3.FS_tar/sub-NDARINV0191C80U.tar',\n",
       " '/scratch/08834/tg881334/2019/3.FS_tar/sub-NDARINV0A4ZDYNL.tar',\n",
       " '/scratch/08834/tg881334/2019/3.FS_tar/sub-NDARINV0XDBADBW.tar',\n",
       " '/scratch/08834/tg881334/2019/3.FS_tar/sub-NDARINV0ZAYELPK.tar',\n",
       " '/scratch/08834/tg881334/2019/3.FS_tar/sub-NDARINV0Z5FF0JL.tar',\n",
       " '/scratch/08834/tg881334/2019/3.FS_tar/sub-NDARINV0E350J5D.tar',\n",
       " '/scratch/08834/tg881334/2019/3.FS_tar/sub-NDARINV01Z8HAPV.tar',\n",
       " '/scratch/08834/tg881334/2019/3.FS_tar/sub-NDARINV0Y8YJ2UR.tar',\n",
       " '/scratch/08834/tg881334/2019/3.FS_tar/sub-NDARINV01EN91PG.tar',\n",
       " '/scratch/08834/tg881334/2019/3.FS_tar/sub-NDARINV0AHJHA5D.tar',\n",
       " '/scratch/08834/tg881334/2019/3.FS_tar/sub-NDARINV0EV57VEX.tar',\n",
       " '/scratch/08834/tg881334/2019/3.FS_tar/sub-NDARINV0ZHHWCMZ.tar',\n",
       " '/scratch/08834/tg881334/2019/3.FS_tar/sub-NDARINV0AEBMADL.tar',\n",
       " '/scratch/08834/tg881334/2019/3.FS_tar/sub-NDARINV0A4P0LWM.tar',\n",
       " '/scratch/08834/tg881334/2019/3.FS_tar/sub-NDARINV014RTM1V.tar']"
      ]
     },
     "execution_count": 18,
     "metadata": {},
     "output_type": "execute_result"
    }
   ],
   "source": [
    "[os.path.join(tar_dir, file_dir) for file_dir in os.listdir(tar_dir)]"
   ]
  },
  {
   "cell_type": "code",
   "execution_count": 13,
   "metadata": {},
   "outputs": [
    {
     "data": {
      "text/plain": [
       "[('/scratch/08834/tg881334/2019/3.FS_tar',\n",
       "  [],\n",
       "  ['sub-NDARINV0A6WVRZY.tar',\n",
       "   'sub-NDARINV019DXLU4.tar',\n",
       "   'sub-NDARINV01RGTWD2.tar',\n",
       "   'sub-NDARINV01ELX9L6.tar',\n",
       "   'sub-NDARINV01AJ15N9.tar',\n",
       "   'sub-NDARINV0XTVAGV2.tar',\n",
       "   'sub-NDARINV0XFVW4LF.tar',\n",
       "   'sub-NDARINV0XU7Z6RH.tar',\n",
       "   'sub-NDARINV0X59EG8X.tar',\n",
       "   'sub-NDARINV0XTAYD1B.tar',\n",
       "   'sub-NDARINV0ZTJ2432.tar',\n",
       "   'sub-NDARINV0Y9F2PL1.tar',\n",
       "   'sub-NDARINV0ZPPK2ML.tar',\n",
       "   'sub-NDARINV0E1RBR9J.tar',\n",
       "   'sub-NDARINV010ZM3H9.tar',\n",
       "   'sub-NDARINV0E9UFT0K.tar',\n",
       "   'sub-NDARINV01TXCDJN.tar',\n",
       "   'sub-NDARINV0AAKGYA2.tar',\n",
       "   'sub-NDARINV0APJMRD1.tar',\n",
       "   'sub-NDARINV01D03VR7.tar',\n",
       "   'sub-NDARINV0A9K5L4R.tar',\n",
       "   'sub-NDARINV0EWGP0U5.tar',\n",
       "   'sub-NDARINV0EXY6KFW.tar',\n",
       "   'sub-NDARINV0XKVPBB0.tar',\n",
       "   'sub-NDARINV01NAYMZH.tar',\n",
       "   'sub-NDARINV0YVKYMJX.tar',\n",
       "   'sub-NDARINV0YLLNXRL.tar',\n",
       "   'sub-NDARINV0X02CUCY.tar',\n",
       "   'sub-NDARINV0YLE20YZ.tar',\n",
       "   'sub-NDARINV0YE7L9KU.tar',\n",
       "   'sub-NDARINV0191C80U.tar',\n",
       "   'sub-NDARINV0A4ZDYNL.tar',\n",
       "   'sub-NDARINV0XDBADBW.tar',\n",
       "   'sub-NDARINV0ZAYELPK.tar',\n",
       "   'sub-NDARINV0Z5FF0JL.tar',\n",
       "   'sub-NDARINV0E350J5D.tar',\n",
       "   'sub-NDARINV01Z8HAPV.tar',\n",
       "   'sub-NDARINV0Y8YJ2UR.tar',\n",
       "   'sub-NDARINV01EN91PG.tar',\n",
       "   'sub-NDARINV0AHJHA5D.tar',\n",
       "   'sub-NDARINV0EV57VEX.tar',\n",
       "   'sub-NDARINV0ZHHWCMZ.tar',\n",
       "   'sub-NDARINV0AEBMADL.tar',\n",
       "   'sub-NDARINV0A4P0LWM.tar',\n",
       "   'sub-NDARINV014RTM1V.tar'])]"
      ]
     },
     "execution_count": 13,
     "metadata": {},
     "output_type": "execute_result"
    }
   ],
   "source": [
    "[i for i in os.walk(tar_dir)]"
   ]
  },
  {
   "cell_type": "code",
   "execution_count": 10,
   "metadata": {},
   "outputs": [
    {
     "data": {
      "text/plain": [
       "'/work2/08834/tg881334/stampede2/ABCD_preproc/IMP_ABCD_preproc/sub-NDARINV0A6WVRZY.tar'"
      ]
     },
     "execution_count": 10,
     "metadata": {},
     "output_type": "execute_result"
    }
   ],
   "source": [
    "os.path.abspath(os.listdir(tar_dir)[0])"
   ]
  },
  {
   "cell_type": "code",
   "execution_count": 8,
   "metadata": {
    "scrolled": true
   },
   "outputs": [
    {
     "data": {
      "text/plain": [
       "['sub-NDARINV0A6WVRZY.tar',\n",
       " 'sub-NDARINV019DXLU4.tar',\n",
       " 'sub-NDARINV01RGTWD2.tar',\n",
       " 'sub-NDARINV01ELX9L6.tar',\n",
       " 'sub-NDARINV01AJ15N9.tar',\n",
       " 'sub-NDARINV0XTVAGV2.tar',\n",
       " 'sub-NDARINV0XFVW4LF.tar',\n",
       " 'sub-NDARINV0XU7Z6RH.tar',\n",
       " 'sub-NDARINV0X59EG8X.tar',\n",
       " 'sub-NDARINV0XTAYD1B.tar',\n",
       " 'sub-NDARINV0ZTJ2432.tar',\n",
       " 'sub-NDARINV0Y9F2PL1.tar',\n",
       " 'sub-NDARINV0ZPPK2ML.tar',\n",
       " 'sub-NDARINV0E1RBR9J.tar',\n",
       " 'sub-NDARINV010ZM3H9.tar',\n",
       " 'sub-NDARINV0E9UFT0K.tar',\n",
       " 'sub-NDARINV01TXCDJN.tar',\n",
       " 'sub-NDARINV0AAKGYA2.tar',\n",
       " 'sub-NDARINV0APJMRD1.tar',\n",
       " 'sub-NDARINV01D03VR7.tar',\n",
       " 'sub-NDARINV0A9K5L4R.tar',\n",
       " 'sub-NDARINV0EWGP0U5.tar',\n",
       " 'sub-NDARINV0EXY6KFW.tar',\n",
       " 'sub-NDARINV0XKVPBB0.tar',\n",
       " 'sub-NDARINV01NAYMZH.tar',\n",
       " 'sub-NDARINV0YVKYMJX.tar',\n",
       " 'sub-NDARINV0YLLNXRL.tar',\n",
       " 'sub-NDARINV0X02CUCY.tar',\n",
       " 'sub-NDARINV0YLE20YZ.tar',\n",
       " 'sub-NDARINV0YE7L9KU.tar',\n",
       " 'sub-NDARINV0191C80U.tar',\n",
       " 'sub-NDARINV0A4ZDYNL.tar',\n",
       " 'sub-NDARINV0XDBADBW.tar',\n",
       " 'sub-NDARINV0ZAYELPK.tar',\n",
       " 'sub-NDARINV0Z5FF0JL.tar',\n",
       " 'sub-NDARINV0E350J5D.tar',\n",
       " 'sub-NDARINV01Z8HAPV.tar',\n",
       " 'sub-NDARINV0Y8YJ2UR.tar',\n",
       " 'sub-NDARINV01EN91PG.tar',\n",
       " 'sub-NDARINV0AHJHA5D.tar',\n",
       " 'sub-NDARINV0EV57VEX.tar',\n",
       " 'sub-NDARINV0ZHHWCMZ.tar',\n",
       " 'sub-NDARINV0AEBMADL.tar',\n",
       " 'sub-NDARINV0A4P0LWM.tar',\n",
       " 'sub-NDARINV014RTM1V.tar']"
      ]
     },
     "execution_count": 8,
     "metadata": {},
     "output_type": "execute_result"
    }
   ],
   "source": []
  },
  {
   "cell_type": "code",
   "execution_count": null,
   "metadata": {},
   "outputs": [],
   "source": []
  },
  {
   "cell_type": "code",
   "execution_count": null,
   "metadata": {},
   "outputs": [],
   "source": []
  },
  {
   "cell_type": "code",
   "execution_count": null,
   "metadata": {},
   "outputs": [],
   "source": []
  },
  {
   "cell_type": "code",
   "execution_count": 2,
   "metadata": {},
   "outputs": [
    {
     "name": "stdout",
     "output_type": "stream",
     "text": [
      "number of cpus : 272\n"
     ]
    },
    {
     "name": "stderr",
     "output_type": "stream",
     "text": [
      "Process ForkPoolWorker-2:\n",
      "Process ForkPoolWorker-3:\n",
      "Process ForkPoolWorker-1:\n",
      "Process ForkPoolWorker-4:\n",
      "Process ForkPoolWorker-5:\n",
      "Traceback (most recent call last):\n",
      "Traceback (most recent call last):\n",
      "Traceback (most recent call last):\n",
      "  File \"/home1/08834/tg881334/logout/envs/CHA_preproc/lib/python3.10/multiprocessing/process.py\", line 315, in _bootstrap\n",
      "    self.run()\n",
      "  File \"/home1/08834/tg881334/logout/envs/CHA_preproc/lib/python3.10/multiprocessing/process.py\", line 315, in _bootstrap\n",
      "    self.run()\n",
      "Traceback (most recent call last):\n",
      "  File \"/home1/08834/tg881334/logout/envs/CHA_preproc/lib/python3.10/multiprocessing/process.py\", line 315, in _bootstrap\n",
      "    self.run()\n",
      "  File \"/home1/08834/tg881334/logout/envs/CHA_preproc/lib/python3.10/multiprocessing/process.py\", line 108, in run\n",
      "    self._target(*self._args, **self._kwargs)\n",
      "  File \"/home1/08834/tg881334/logout/envs/CHA_preproc/lib/python3.10/multiprocessing/process.py\", line 108, in run\n",
      "    self._target(*self._args, **self._kwargs)\n",
      "Traceback (most recent call last):\n",
      "  File \"/home1/08834/tg881334/logout/envs/CHA_preproc/lib/python3.10/multiprocessing/process.py\", line 315, in _bootstrap\n",
      "    self.run()\n",
      "  File \"/home1/08834/tg881334/logout/envs/CHA_preproc/lib/python3.10/multiprocessing/process.py\", line 108, in run\n",
      "    self._target(*self._args, **self._kwargs)\n",
      "  File \"/home1/08834/tg881334/logout/envs/CHA_preproc/lib/python3.10/multiprocessing/pool.py\", line 114, in worker\n",
      "    task = get()\n",
      "  File \"/home1/08834/tg881334/logout/envs/CHA_preproc/lib/python3.10/multiprocessing/pool.py\", line 114, in worker\n",
      "    task = get()\n",
      "  File \"/home1/08834/tg881334/logout/envs/CHA_preproc/lib/python3.10/multiprocessing/process.py\", line 315, in _bootstrap\n",
      "    self.run()\n",
      "  File \"/home1/08834/tg881334/logout/envs/CHA_preproc/lib/python3.10/multiprocessing/process.py\", line 108, in run\n",
      "    self._target(*self._args, **self._kwargs)\n",
      "  File \"/home1/08834/tg881334/logout/envs/CHA_preproc/lib/python3.10/multiprocessing/pool.py\", line 114, in worker\n",
      "    task = get()\n",
      "  File \"/home1/08834/tg881334/logout/envs/CHA_preproc/lib/python3.10/multiprocessing/queues.py\", line 368, in get\n",
      "    return _ForkingPickler.loads(res)\n",
      "  File \"/home1/08834/tg881334/logout/envs/CHA_preproc/lib/python3.10/multiprocessing/queues.py\", line 368, in get\n",
      "    return _ForkingPickler.loads(res)\n",
      "  File \"/home1/08834/tg881334/logout/envs/CHA_preproc/lib/python3.10/multiprocessing/process.py\", line 108, in run\n",
      "    self._target(*self._args, **self._kwargs)\n",
      "  File \"/home1/08834/tg881334/logout/envs/CHA_preproc/lib/python3.10/multiprocessing/pool.py\", line 114, in worker\n",
      "    task = get()\n",
      "  File \"/home1/08834/tg881334/logout/envs/CHA_preproc/lib/python3.10/multiprocessing/queues.py\", line 368, in get\n",
      "    return _ForkingPickler.loads(res)\n",
      "AttributeError: Can't get attribute 'wow' on <module '__main__'>\n",
      "AttributeError: Can't get attribute 'wow' on <module '__main__'>\n",
      "  File \"/home1/08834/tg881334/logout/envs/CHA_preproc/lib/python3.10/multiprocessing/pool.py\", line 114, in worker\n",
      "    task = get()\n",
      "  File \"/home1/08834/tg881334/logout/envs/CHA_preproc/lib/python3.10/multiprocessing/queues.py\", line 368, in get\n",
      "    return _ForkingPickler.loads(res)\n",
      "AttributeError: Can't get attribute 'wow' on <module '__main__'>\n",
      "  File \"/home1/08834/tg881334/logout/envs/CHA_preproc/lib/python3.10/multiprocessing/queues.py\", line 368, in get\n",
      "    return _ForkingPickler.loads(res)\n",
      "AttributeError: Can't get attribute 'wow' on <module '__main__'>\n",
      "AttributeError: Can't get attribute 'wow' on <module '__main__'>\n"
     ]
    }
   ],
   "source": [
    "n_cpu = cpu_count()\n",
    "print(\"number of cpus : {}\".format(n_cpu))\n",
    "p = Pool(5)"
   ]
  },
  {
   "cell_type": "code",
   "execution_count": 3,
   "metadata": {},
   "outputs": [],
   "source": [
    "def wow(x):\n",
    "    return x**2"
   ]
  },
  {
   "cell_type": "code",
   "execution_count": null,
   "metadata": {
    "scrolled": true
   },
   "outputs": [],
   "source": [
    "for s in p.imap(wow, range(5)):\n",
    "    print(s)"
   ]
  },
  {
   "cell_type": "code",
   "execution_count": null,
   "metadata": {},
   "outputs": [],
   "source": []
  },
  {
   "cell_type": "code",
   "execution_count": null,
   "metadata": {},
   "outputs": [],
   "source": []
  }
 ],
 "metadata": {
  "kernelspec": {
   "display_name": "CHA_preproc",
   "language": "python",
   "name": "cha_preproc"
  },
  "language_info": {
   "codemirror_mode": {
    "name": "ipython",
    "version": 3
   },
   "file_extension": ".py",
   "mimetype": "text/x-python",
   "name": "python",
   "nbconvert_exporter": "python",
   "pygments_lexer": "ipython3",
   "version": "3.10.4"
  }
 },
 "nbformat": 4,
 "nbformat_minor": 2
}
