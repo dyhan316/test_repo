{
 "cells": [
  {
   "cell_type": "code",
   "execution_count": 6,
   "metadata": {},
   "outputs": [],
   "source": [
    "import json\n",
    "import os "
   ]
  },
  {
   "cell_type": "markdown",
   "metadata": {},
   "source": [
    "looked at : https://stackoverflow.com/questions/23111625/how-to-add-a-key-value-to-json-data-retrieved-from-a-file\n",
    "\n"
   ]
  },
  {
   "cell_type": "code",
   "execution_count": 14,
   "metadata": {},
   "outputs": [],
   "source": [
    "import json\n",
    "import os \n",
    "import glob \n",
    "def modify_json(json_dir):\n",
    "    with open(json_dir, 'r') as f:\n",
    "        data = json.loads(f.read())\n",
    "    data[\"PhaseEncodingDirection\"] = 'i'\n",
    "    \n",
    "    with open(json_dir, 'w') as json_file:\n",
    "        json.dump(data, json_file)\n",
    "\n",
    "\n",
    "def modify_whole_bids(BIDS_dir):\n",
    "    \"\"\"\n",
    "    iteratively applies modify_json to all the dwi json files inside of a directory\n",
    "    \"\"\"\n",
    "    \n",
    "    for BIDS_dir \n",
    "        "
   ]
  },
  {
   "cell_type": "code",
   "execution_count": 15,
   "metadata": {},
   "outputs": [],
   "source": [
    "modify_json(json_read)"
   ]
  },
  {
   "cell_type": "code",
   "execution_count": 18,
   "metadata": {},
   "outputs": [],
   "source": [
    "BIDS_dir = \"/scratch/08834/tg881334/2019/test/2.BIDS\""
   ]
  },
  {
   "cell_type": "code",
   "execution_count": null,
   "metadata": {},
   "outputs": [],
   "source": [
    "\"/sub-NDARINV010ZM3H9/ses-2YearFollowUpYArm1/dwi\""
   ]
  },
  {
   "cell_type": "code",
   "execution_count": 19,
   "metadata": {},
   "outputs": [],
   "source": [
    "from glob import glob"
   ]
  },
  {
   "cell_type": "code",
   "execution_count": 21,
   "metadata": {},
   "outputs": [
    {
     "data": {
      "text/plain": [
       "['/scratch/08834/tg881334/2019/2.BIDS/sub-NDARINV0A4ZDYNL/ses-2YearFollowUpYArm1/dwi/sub-NDARINV0A4ZDYNL_ses-2YearFollowUpYArm1_run-01_dwi.json',\n",
       " '/scratch/08834/tg881334/2019/2.BIDS/sub-NDARINV0Z5FF0JL/ses-2YearFollowUpYArm1/dwi/sub-NDARINV0Z5FF0JL_ses-2YearFollowUpYArm1_run-01_dwi.json',\n",
       " '/scratch/08834/tg881334/2019/2.BIDS/sub-NDARINV0E350J5D/ses-2YearFollowUpYArm1/dwi/sub-NDARINV0E350J5D_ses-2YearFollowUpYArm1_run-01_dwi.json',\n",
       " '/scratch/08834/tg881334/2019/2.BIDS/sub-NDARINV0ZHHWCMZ/ses-2YearFollowUpYArm1/dwi/sub-NDARINV0ZHHWCMZ_ses-2YearFollowUpYArm1_run-01_dwi.json',\n",
       " '/scratch/08834/tg881334/2019/2.BIDS/sub-NDARINV0XDBADBW/ses-2YearFollowUpYArm1/dwi/sub-NDARINV0XDBADBW_ses-2YearFollowUpYArm1_run-01_dwi.json',\n",
       " '/scratch/08834/tg881334/2019/2.BIDS/sub-NDARINV01NAYMZH/ses-2YearFollowUpYArm1/dwi/sub-NDARINV01NAYMZH_ses-2YearFollowUpYArm1_run-01_dwi.json',\n",
       " '/scratch/08834/tg881334/2019/2.BIDS/sub-NDARINV01AJ15N9/ses-2YearFollowUpYArm1/dwi/sub-NDARINV01AJ15N9_ses-2YearFollowUpYArm1_run-01_dwi.json',\n",
       " '/scratch/08834/tg881334/2019/2.BIDS/sub-NDARINV0E9UFT0K/ses-2YearFollowUpYArm1/dwi/sub-NDARINV0E9UFT0K_ses-2YearFollowUpYArm1_run-01_dwi.json',\n",
       " '/scratch/08834/tg881334/2019/2.BIDS/sub-NDARINV0XTVAGV2/ses-2YearFollowUpYArm1/dwi/sub-NDARINV0XTVAGV2_ses-2YearFollowUpYArm1_run-01_dwi.json',\n",
       " '/scratch/08834/tg881334/2019/2.BIDS/sub-NDARINV0EV57VEX/ses-2YearFollowUpYArm1/dwi/sub-NDARINV0EV57VEX_ses-2YearFollowUpYArm1_run-01_dwi.json',\n",
       " '/scratch/08834/tg881334/2019/2.BIDS/sub-NDARINV014RTM1V/ses-2YearFollowUpYArm1/dwi/sub-NDARINV014RTM1V_ses-2YearFollowUpYArm1_run-02_dwi.json',\n",
       " '/scratch/08834/tg881334/2019/2.BIDS/sub-NDARINV014RTM1V/ses-2YearFollowUpYArm1/dwi/sub-NDARINV014RTM1V_ses-2YearFollowUpYArm1_run-01_dwi.json',\n",
       " '/scratch/08834/tg881334/2019/2.BIDS/sub-NDARINV0XTAYD1B/ses-2YearFollowUpYArm1/dwi/sub-NDARINV0XTAYD1B_ses-2YearFollowUpYArm1_run-01_dwi.json',\n",
       " '/scratch/08834/tg881334/2019/2.BIDS/sub-NDARINV0A6WVRZY/ses-2YearFollowUpYArm1/dwi/sub-NDARINV0A6WVRZY_ses-2YearFollowUpYArm1_run-01_dwi.json',\n",
       " '/scratch/08834/tg881334/2019/2.BIDS/sub-NDARINV019DXLU4/ses-2YearFollowUpYArm1/dwi/sub-NDARINV019DXLU4_ses-2YearFollowUpYArm1_run-02_dwi.json',\n",
       " '/scratch/08834/tg881334/2019/2.BIDS/sub-NDARINV019DXLU4/ses-2YearFollowUpYArm1/dwi/sub-NDARINV019DXLU4_ses-2YearFollowUpYArm1_run-01_dwi.json',\n",
       " '/scratch/08834/tg881334/2019/2.BIDS/sub-NDARINV0ZAYELPK/ses-2YearFollowUpYArm1/dwi/sub-NDARINV0ZAYELPK_ses-2YearFollowUpYArm1_run-01_dwi.json',\n",
       " '/scratch/08834/tg881334/2019/2.BIDS/sub-NDARINV0XU7Z6RH/ses-2YearFollowUpYArm1/dwi/sub-NDARINV0XU7Z6RH_ses-2YearFollowUpYArm1_run-01_dwi.json',\n",
       " '/scratch/08834/tg881334/2019/2.BIDS/sub-NDARINV0ZTJ2432/ses-2YearFollowUpYArm1/dwi/sub-NDARINV0ZTJ2432_ses-2YearFollowUpYArm1_run-01_dwi.json',\n",
       " '/scratch/08834/tg881334/2019/2.BIDS/sub-NDARINV0YE7L9KU/ses-2YearFollowUpYArm1/dwi/sub-NDARINV0YE7L9KU_ses-2YearFollowUpYArm1_run-01_dwi.json',\n",
       " '/scratch/08834/tg881334/2019/2.BIDS/sub-NDARINV01D03VR7/ses-2YearFollowUpYArm1/dwi/sub-NDARINV01D03VR7_ses-2YearFollowUpYArm1_run-01_dwi.json',\n",
       " '/scratch/08834/tg881334/2019/2.BIDS/sub-NDARINV0EXY6KFW/ses-2YearFollowUpYArm1/dwi/sub-NDARINV0EXY6KFW_ses-2YearFollowUpYArm1_run-01_dwi.json',\n",
       " '/scratch/08834/tg881334/2019/2.BIDS/sub-NDARINV01EN91PG/ses-2YearFollowUpYArm1/dwi/sub-NDARINV01EN91PG_ses-2YearFollowUpYArm1_run-01_dwi.json',\n",
       " '/scratch/08834/tg881334/2019/2.BIDS/sub-NDARINV01EN91PG/ses-2YearFollowUpYArm1/dwi/sub-NDARINV01EN91PG_ses-2YearFollowUpYArm1_run-02_dwi.json',\n",
       " '/scratch/08834/tg881334/2019/2.BIDS/sub-NDARINV0E1RBR9J/ses-2YearFollowUpYArm1/dwi/sub-NDARINV0E1RBR9J_ses-2YearFollowUpYArm1_run-02_dwi.json',\n",
       " '/scratch/08834/tg881334/2019/2.BIDS/sub-NDARINV0E1RBR9J/ses-2YearFollowUpYArm1/dwi/sub-NDARINV0E1RBR9J_ses-2YearFollowUpYArm1_run-01_dwi.json',\n",
       " '/scratch/08834/tg881334/2019/2.BIDS/sub-NDARINV010ZM3H9/ses-2YearFollowUpYArm1/dwi/sub-NDARINV010ZM3H9_ses-2YearFollowUpYArm1_run-01_dwi.json',\n",
       " '/scratch/08834/tg881334/2019/2.BIDS/sub-NDARINV0A4P0LWM/ses-2YearFollowUpYArm1/dwi/sub-NDARINV0A4P0LWM_ses-2YearFollowUpYArm1_run-01_dwi.json',\n",
       " '/scratch/08834/tg881334/2019/2.BIDS/sub-NDARINV01TXCDJN/ses-2YearFollowUpYArm1/dwi/sub-NDARINV01TXCDJN_ses-2YearFollowUpYArm1_run-01_dwi.json',\n",
       " '/scratch/08834/tg881334/2019/2.BIDS/sub-NDARINV0A9K5L4R/ses-2YearFollowUpYArm1/dwi/sub-NDARINV0A9K5L4R_ses-2YearFollowUpYArm1_run-01_dwi.json',\n",
       " '/scratch/08834/tg881334/2019/2.BIDS/sub-NDARINV01ELX9L6/ses-2YearFollowUpYArm1/dwi/sub-NDARINV01ELX9L6_ses-2YearFollowUpYArm1_run-01_dwi.json',\n",
       " '/scratch/08834/tg881334/2019/2.BIDS/sub-NDARINV0ZPPK2ML/ses-2YearFollowUpYArm1/dwi/sub-NDARINV0ZPPK2ML_ses-2YearFollowUpYArm1_run-01_dwi.json',\n",
       " '/scratch/08834/tg881334/2019/2.BIDS/sub-NDARINV0XFVW4LF/ses-2YearFollowUpYArm1/dwi/sub-NDARINV0XFVW4LF_ses-2YearFollowUpYArm1_run-01_dwi.json',\n",
       " '/scratch/08834/tg881334/2019/2.BIDS/sub-NDARINV0AAKGYA2/ses-2YearFollowUpYArm1/dwi/sub-NDARINV0AAKGYA2_ses-2YearFollowUpYArm1_run-01_dwi.json',\n",
       " '/scratch/08834/tg881334/2019/2.BIDS/sub-NDARINV01Z8HAPV/ses-2YearFollowUpYArm1/dwi/sub-NDARINV01Z8HAPV_ses-2YearFollowUpYArm1_run-01_dwi.json',\n",
       " '/scratch/08834/tg881334/2019/2.BIDS/sub-NDARINV0YVKYMJX/ses-2YearFollowUpYArm1/dwi/sub-NDARINV0YVKYMJX_ses-2YearFollowUpYArm1_run-01_dwi.json',\n",
       " '/scratch/08834/tg881334/2019/2.BIDS/sub-NDARINV0X02CUCY/ses-2YearFollowUpYArm1/dwi/sub-NDARINV0X02CUCY_ses-2YearFollowUpYArm1_run-01_dwi.json',\n",
       " '/scratch/08834/tg881334/2019/2.BIDS/sub-NDARINV0X59EG8X/ses-2YearFollowUpYArm1/dwi/sub-NDARINV0X59EG8X_ses-2YearFollowUpYArm1_run-01_dwi.json',\n",
       " '/scratch/08834/tg881334/2019/2.BIDS/sub-NDARINV0Y9F2PL1/ses-2YearFollowUpYArm1/dwi/sub-NDARINV0Y9F2PL1_ses-2YearFollowUpYArm1_run-01_dwi.json',\n",
       " '/scratch/08834/tg881334/2019/2.BIDS/sub-NDARINV0AEBMADL/ses-2YearFollowUpYArm1/dwi/sub-NDARINV0AEBMADL_ses-2YearFollowUpYArm1_run-01_dwi.json',\n",
       " '/scratch/08834/tg881334/2019/2.BIDS/sub-NDARINV0191C80U/ses-2YearFollowUpYArm1/dwi/sub-NDARINV0191C80U_ses-2YearFollowUpYArm1_run-01_dwi.json',\n",
       " '/scratch/08834/tg881334/2019/2.BIDS/sub-NDARINV0APJMRD1/ses-2YearFollowUpYArm1/dwi/sub-NDARINV0APJMRD1_ses-2YearFollowUpYArm1_run-01_dwi.json',\n",
       " '/scratch/08834/tg881334/2019/2.BIDS/sub-NDARINV0XKVPBB0/ses-2YearFollowUpYArm1/dwi/sub-NDARINV0XKVPBB0_ses-2YearFollowUpYArm1_run-01_dwi.json',\n",
       " '/scratch/08834/tg881334/2019/2.BIDS/sub-NDARINV0YLLNXRL/ses-2YearFollowUpYArm1/dwi/sub-NDARINV0YLLNXRL_ses-2YearFollowUpYArm1_run-01_dwi.json',\n",
       " '/scratch/08834/tg881334/2019/2.BIDS/sub-NDARINV0Y8YJ2UR/ses-2YearFollowUpYArm1/dwi/sub-NDARINV0Y8YJ2UR_ses-2YearFollowUpYArm1_run-01_dwi.json',\n",
       " '/scratch/08834/tg881334/2019/2.BIDS/sub-NDARINV0YLE20YZ/ses-2YearFollowUpYArm1/dwi/sub-NDARINV0YLE20YZ_ses-2YearFollowUpYArm1_run-01_dwi.json',\n",
       " '/scratch/08834/tg881334/2019/2.BIDS/sub-NDARINV01RGTWD2/ses-2YearFollowUpYArm1/dwi/sub-NDARINV01RGTWD2_ses-2YearFollowUpYArm1_run-01_dwi.json']"
      ]
     },
     "execution_count": 21,
     "metadata": {},
     "output_type": "execute_result"
    }
   ],
   "source": [
    "BIDS_dir = \"/scratch/08834/tg881334/2019/2.BIDS\"\n",
    "glob(BIDS_dir + '/sub*/*/dwi/*.json')"
   ]
  },
  {
   "cell_type": "code",
   "execution_count": null,
   "metadata": {},
   "outputs": [],
   "source": []
  },
  {
   "cell_type": "code",
   "execution_count": null,
   "metadata": {},
   "outputs": [],
   "source": []
  },
  {
   "cell_type": "code",
   "execution_count": 9,
   "metadata": {},
   "outputs": [
    {
     "name": "stdout",
     "output_type": "stream",
     "text": [
      "{'registration_matrix_T1': [[1, 0, 0, 0], [0, 1, 0, 0], [0, 0, 1, 0], [0, 0, 0, 1]], 'IntendedFor': 'sub-NDARINV010ZM3H9_ses-2YearFollowUpYArm1_run-01_dwi.nii', 'RepetitionTime': 4.2, 'EchoTime': 0.089, 'FlipAngle': 90.0}\n",
      "<class 'dict'>\n"
     ]
    }
   ],
   "source": [
    "json_read = \"/scratch/08834/tg881334/2019/test/2.BIDS/sub-NDARINV010ZM3H9/ses-2YearFollowUpYArm1/dwi/sub-NDARINV010ZM3H9_ses-2YearFollowUpYArm1_run-01_dwi.json\"\n",
    "with open(json_read, 'r') as f:\n",
    "    data = json.loads(f.read())\n",
    "print(data)\n",
    "data[\"PhaseEncodingDirection\"] = 'j'\n",
    "\n",
    "print(type(data))\n",
    "\n",
    "with open(json_read, 'w') as json_file:\n",
    "    json.dump(data, json_file)"
   ]
  },
  {
   "cell_type": "code",
   "execution_count": 16,
   "metadata": {},
   "outputs": [
    {
     "name": "stdout",
     "output_type": "stream",
     "text": [
      "{'registration_matrix_T1': [[1, 0, 0, 0], [0, 1, 0, 0], [0, 0, 1, 0], [0, 0, 0, 1]], 'IntendedFor': 'sub-NDARINV010ZM3H9_ses-2YearFollowUpYArm1_run-01_dwi.nii', 'RepetitionTime': 4.2, 'EchoTime': 0.089, 'FlipAngle': 90.0, 'PhaseEncodingDirection': 'i'}\n"
     ]
    }
   ],
   "source": [
    "with open(json_read, 'r') as f:\n",
    "    data = json.loads(f.read())\n",
    "print(data)"
   ]
  },
  {
   "cell_type": "code",
   "execution_count": null,
   "metadata": {},
   "outputs": [],
   "source": []
  }
 ],
 "metadata": {
  "kernelspec": {
   "display_name": "CHA_preproc",
   "language": "python",
   "name": "cha_preproc"
  },
  "language_info": {
   "codemirror_mode": {
    "name": "ipython",
    "version": 3
   },
   "file_extension": ".py",
   "mimetype": "text/x-python",
   "name": "python",
   "nbconvert_exporter": "python",
   "pygments_lexer": "ipython3",
   "version": "3.10.4"
  }
 },
 "nbformat": 4,
 "nbformat_minor": 2
}
