{
 "cells": [
  {
   "cell_type": "code",
   "execution_count": 1,
   "metadata": {},
   "outputs": [
    {
     "data": {
      "text/html": [
       "<style>.container { width:100% !important; }</style>"
      ],
      "text/plain": [
       "<IPython.core.display.HTML object>"
      ]
     },
     "metadata": {},
     "output_type": "display_data"
    }
   ],
   "source": [
    "from IPython.display import display, HTML\n",
    "display(HTML(\"<style>.container { width:100% !important; }</style>\"))\n"
   ]
  },
  {
   "cell_type": "code",
   "execution_count": 2,
   "metadata": {},
   "outputs": [],
   "source": [
    "import os\n",
    "import subprocess\n",
    "import argparse\n",
    "from pathlib import Path\n",
    "import pdb\n",
    "import warnings"
   ]
  },
  {
   "cell_type": "code",
   "execution_count": 3,
   "metadata": {},
   "outputs": [
    {
     "data": {
      "text/plain": [
       "'/scratch/08834/tg881334/CHA_preproc/2.BIDS_data/'"
      ]
     },
     "execution_count": 3,
     "metadata": {},
     "output_type": "execute_result"
    }
   ],
   "source": [
    "\"/scratch/08834/tg881334/CHA_preproc/2.BIDS_data/\""
   ]
  },
  {
   "cell_type": "code",
   "execution_count": 4,
   "metadata": {},
   "outputs": [],
   "source": [
    "#######ASSUMPTIONS######\n",
    "curr_dir = os.getcwd()\n",
    "class Args():\n",
    "    def __init__(self, BIDS_folder,alloc = \"skx-normal\"):\n",
    "        self.alloc = alloc #also possible skx-normal#what to be allocated with \n",
    "        self.BIDS_folder = BIDS_folder#'age_4.5_to_5'\n",
    "        self.base_dir = Path(curr_dir)\n",
    "        self.scratch_dir = Path('/scratch/08834/tg881334/CHA_preproc') #where the BIDS and outputs are and will be saved\n",
    "        self.BIDS_dir = Path(self.scratch_dir/'2.BIDS_data/{}'.format(self.BIDS_folder)) #MUST BE MODIFIED TO THE INPUT I WANT TO RUN WITH\n",
    "        self.save_dir = Path(self.scratch_dir/'3.qsipreproc_results_ADULTS/{}'.format(self.BIDS_folder))\n",
    "        self.supp_dir = Path('/work2/08834/tg881334/stampede2/CHA_preproc/CHA_preproc_supplementary_files') #directory where the singularity images and etc are held\n",
    "        #self.shell_dir = Path(self.base_dir / 'step4_shell_outputs/{}/'.format(self.BIDS_folder)) #where the shelll scripts for each subject will be saved\n",
    "        #self.log_dir = Path(self.base_dir/'step4_shell_outputs/{}/'.format(self.BIDS_folder))\n",
    "        self.sub_list = sorted(os.listdir(self.BIDS_dir))\n",
    "        #age 에 관한 것이 있어야 할듯! (특히, freesurfer infant 할떄)\n",
    "        ages = self.BIDS_folder.split('_')\n",
    "        print(ages)\n",
    "        if float(ages[3]) <= 4.5:\n",
    "            self.infant = True\n",
    "        elif float(ages[1]) >= 4.5:\n",
    "            self.infant = False\n",
    "        else : \n",
    "            raise ValueError(\"something is werid!!! \")\n",
    "        print(f\"infant ? : {self.infant}\")"
   ]
  },
  {
   "cell_type": "code",
   "execution_count": 5,
   "metadata": {},
   "outputs": [],
   "source": [
    "class qsiprep_shell():\n",
    "    \"\"\"\n",
    "    shell script for performing preproc or reconstruction for infants AND adults given their args    \n",
    "    \"\"\"\n",
    "    \n",
    "    def __init__(self, args, operation ):\n",
    "        \"\"\"\n",
    "        args : 앞에서 정의했어야 했는 것\n",
    "        perform : what mode to perform, out of ['preproc', 'recon'] \n",
    "            * adult preproc : use 0.14.3, full T1 and dwi\n",
    "            * infant preproc : use 0.14.3, dwi only \n",
    "            * adult_recon, infant_recon : not done yet (use 0.16.1)\n",
    "        \"\"\"\n",
    "        if operation == \"preproc\":\n",
    "            if args.infant == True:\n",
    "                self.perform = \"infant_preproc\"\n",
    "            else:\n",
    "                self.perform = \"adult_preproc\"\n",
    "        elif operation == \"recon\":\n",
    "            raise NotImplementedError(\"reconstruction not implemented yet\")\n",
    "        else :\n",
    "            raise ValueError(\"perform is not either 'preproc' or 'recon'\")\n",
    "        \n",
    "        #공통된 것들 (preproc이든 recon이든 동일한 것 적용)\n",
    "        time_lim = {\"skx-normal\": 48, \"skx-dev\" : 2}\n",
    "        \n",
    "        self.shell_dir = f\"{str(args.base_dir)}/step4_shell_output/{self.perform}/{args.BIDS_folder}\"#where shell scripts and output/errors will be saved\n",
    "        os.makedirs(self.shell_dir, exist_ok=True)        \n",
    "        self.bash_shell = [\"#! /bin/bash\",\n",
    "                     f\"#SBATCH -J {self.perform}_{args.BIDS_folder}\", f\"#SBATCH -p {args.alloc}\",\n",
    "                     f\"#SBATCH -o {self.shell_dir}/output.%j\",\n",
    "                     f\"#SBATCH -e {self.shell_dir}/error.%j\",\n",
    "                     f\"#SBATCH -t {time_lim[args.alloc]}:00:00\", \"#SBATCH -n 1\", \"#SBATCH -N 1\",\n",
    "                     \"#SBATCH --mail-user=dyhan0316@gmail.com\", \"#SBATCH --mail-type=ALL\",\n",
    "                     \"#SBATCH -c 96\", \"module load tacc-singularity\"]\n",
    "        \n",
    "        self.args = args #저장하기, so that 밑에 methods에서 쓸 수 있도록\n",
    "    \n",
    "    def make_sh_files(self):\n",
    "        \"\"\"\n",
    "        creates sh files for execution\n",
    "        \"\"\"\n",
    "        args = self.args\n",
    "        \n",
    "        ##perform mode에 따라서 다르게 학시 \n",
    "        perform = self.perform #bad coding style, but whatever..ㅋㅋㅋ\n",
    "        if perform in ['adult_preproc', 'infant_preproc'] : \n",
    "            print(f\"will perform preprocessing for folder {args.BIDS_folder}\")\n",
    "            #updating bash_shell with the singularity command\n",
    "            self.sing_img_dir = args.supp_dir/\"qsiprep-0.14.3.sif\"#singularity image directory (0.14.3.sif for this one )\n",
    "            os.makedirs(args.save_dir, exist_ok = False)\n",
    "            self.singularity_command = f\"singularity run --cleanenv -B {args.BIDS_dir}/:/data:ro,{args.save_dir}/:/out,{str(args.supp_dir)}:/freesurfer {str(self.sing_img_dir)} /data /out participant -w /out/tmp --output_resolution 1.2 --denoise_after_combining --unringing_method mrdegibbs --b0_to_t1w_transform Affine --intramodal_template_transform SyN --do_reconall --fs-license-file /freesurfer/license.txt --skip_bids_validation --omp-nthreads 4\"\n",
    "            \n",
    "            #밑에 infant할때 --infant이런것들 넣었는데, --dwi-only도 넣어야할듯?\n",
    "            #(조금 복잡해짐... 일단은... 두고보자 (그리고 args.infant 를 받도록 했는데, 이것은 좋은 것이 아닐듯..\n",
    "            #왜냐하면 args.infant = True인데 adult_preproc하라고 내가 말하면 애러가 뜰 것이니 ))\n",
    "            #below : add dwi-only and --infant if infant \n",
    "            if args.infant == True : self.singularity_command = self.singularity_command + ' --infant' + ' --dwi-only' #add infant option of doing infant \n",
    "                \n",
    "            #밑에 warning : 지우기 (나중에 freesurfer도 하고 나면)\n",
    "            if args.infant == True:\n",
    "                warnings.warn('infant is half implemented! must do the fressurefr infant, THAN add them up!')      \n",
    "            \n",
    "            self.bash_shell.append(self.singularity_command)\n",
    "            \n",
    "            #saving the shell files\n",
    "            \n",
    "            \n",
    "            self.shell_shell = f\"{self.shell_dir}/run_{perform}_{args.BIDS_folder}.sh\"\n",
    "            with open(self.shell_shell, \"x\") as f: #\"x\" so that creates only if it didn't exist\n",
    "                for line in self.bash_shell:\n",
    "                    f.write(f\"{line}\\n\")\n",
    "            \n",
    "        elif perform in ['adult_recon','infant_recon'] :\n",
    "            raise NotImplementedError(\"reconstruction not implemented yet\")\n",
    "            self.sing_img_dir = args.supp_dir/\"qsiprep-0.16.1.sif\"\n",
    "        else:\n",
    "            raise ValueError(f\"incorrect perform option : {perform}\")\n",
    "            \n",
    "        #assert self.infant == False , \"NOT AN INFANT! (or infant range is not set correctly in args)\"\n",
    "    \n",
    "    def run(self):\n",
    "        \"\"\"\n",
    "        runs the created sh files using sbatch \n",
    "        \"\"\"\n",
    "        args = self.args\n",
    "        \n",
    "        \n",
    "        subprocess.run(f\"chmod 755 {self.shell_shell}\", shell = True)\n",
    "        \n",
    "        subprocess.run(f\"sbatch {self.shell_shell}\", shell = True)\n",
    "        \n",
    "        "
   ]
  },
  {
   "cell_type": "markdown",
   "metadata": {},
   "source": [
    "#### 하나에 대해서 돌리기 "
   ]
  },
  {
   "cell_type": "code",
   "execution_count": 6,
   "metadata": {},
   "outputs": [],
   "source": [
    "##실제로 돌리기 \n",
    "\n",
    "#args = Args(BIDS_folder= \"age_7_to_9\", alloc = 'skx-dev')\n",
    "#\n",
    "#running_it = qsiprep_shell(args, \"adult_preproc\")\n",
    "#\n",
    "#running_it.make_sh_files()"
   ]
  },
  {
   "cell_type": "code",
   "execution_count": 7,
   "metadata": {},
   "outputs": [],
   "source": [
    "#SBATCH돌리는 것 (login node에서 해야함)\n",
    "#running_it.run()\n",
    "#must run sbatch within login => therefore, will have to do this later "
   ]
  },
  {
   "cell_type": "markdown",
   "metadata": {},
   "source": [
    "##### 여러개 이제 돌리기 "
   ]
  },
  {
   "cell_type": "code",
   "execution_count": 1,
   "metadata": {},
   "outputs": [
    {
     "ename": "NameError",
     "evalue": "name 'Args' is not defined",
     "output_type": "error",
     "traceback": [
      "\u001b[0;31m---------------------------------------------------------------------------\u001b[0m",
      "\u001b[0;31mNameError\u001b[0m                                 Traceback (most recent call last)",
      "Cell \u001b[0;32mIn [1], line 3\u001b[0m\n\u001b[1;32m      1\u001b[0m \u001b[38;5;28;01mimport\u001b[39;00m \u001b[38;5;21;01mos\u001b[39;00m \n\u001b[1;32m      2\u001b[0m \u001b[38;5;28;01mfor\u001b[39;00m BIDS_folder \u001b[38;5;129;01min\u001b[39;00m os\u001b[38;5;241m.\u001b[39mlistdir(\u001b[38;5;124m\"\u001b[39m\u001b[38;5;124m/scratch/08834/tg881334/CHA_preproc/2.BIDS_data/\u001b[39m\u001b[38;5;124m\"\u001b[39m):\n\u001b[0;32m----> 3\u001b[0m     args \u001b[38;5;241m=\u001b[39m \u001b[43mArgs\u001b[49m(BIDS_folder\u001b[38;5;241m=\u001b[39m BIDS_folder, alloc \u001b[38;5;241m=\u001b[39m \u001b[38;5;124m'\u001b[39m\u001b[38;5;124mskx-dev\u001b[39m\u001b[38;5;124m'\u001b[39m) \u001b[38;5;66;03m#make args for each BIDS_folder\u001b[39;00m\n\u001b[1;32m      5\u001b[0m     running_it \u001b[38;5;241m=\u001b[39m qsiprep_shell(args, operation \u001b[38;5;241m=\u001b[39m \u001b[38;5;124m\"\u001b[39m\u001b[38;5;124mpreproc\u001b[39m\u001b[38;5;124m\"\u001b[39m)\n\u001b[1;32m      7\u001b[0m     running_it\u001b[38;5;241m.\u001b[39mmake_sh_files()\n",
      "\u001b[0;31mNameError\u001b[0m: name 'Args' is not defined"
     ]
    }
   ],
   "source": [
    "import os \n",
    "for BIDS_folder in os.listdir(\"/scratch/08834/tg881334/CHA_preproc/2.BIDS_data/\"):\n",
    "    args = Args(BIDS_folder= BIDS_folder, alloc = 'skx-dev') #make args for each BIDS_folder\n",
    "    \n",
    "    running_it = qsiprep_shell(args, operation = \"preproc\")\n",
    "    \n",
    "    running_it.make_sh_files()\n",
    "    running_it.run() #have to be run inside of the login node"
   ]
  },
  {
   "cell_type": "code",
   "execution_count": null,
   "metadata": {},
   "outputs": [],
   "source": []
  },
  {
   "cell_type": "code",
   "execution_count": null,
   "metadata": {},
   "outputs": [],
   "source": []
  },
  {
   "cell_type": "code",
   "execution_count": null,
   "metadata": {},
   "outputs": [],
   "source": []
  },
  {
   "cell_type": "code",
   "execution_count": null,
   "metadata": {},
   "outputs": [],
   "source": []
  },
  {
   "cell_type": "code",
   "execution_count": null,
   "metadata": {},
   "outputs": [],
   "source": []
  },
  {
   "cell_type": "code",
   "execution_count": 9,
   "metadata": {},
   "outputs": [
    {
     "ename": "NameError",
     "evalue": "name 'age_list' is not defined",
     "output_type": "error",
     "traceback": [
      "\u001b[0;31m---------------------------------------------------------------------------\u001b[0m",
      "\u001b[0;31mNameError\u001b[0m                                 Traceback (most recent call last)",
      "Cell \u001b[0;32mIn [9], line 2\u001b[0m\n\u001b[1;32m      1\u001b[0m num_subs \u001b[38;5;241m=\u001b[39m \u001b[38;5;241m0\u001b[39m\n\u001b[0;32m----> 2\u001b[0m \u001b[38;5;28;01mfor\u001b[39;00m age_range \u001b[38;5;129;01min\u001b[39;00m \u001b[43mage_list\u001b[49m: \u001b[38;5;66;03m#age_list를 추가하기 \u001b[39;00m\n\u001b[1;32m      3\u001b[0m     \u001b[38;5;28mprint\u001b[39m(\u001b[38;5;124m\"\u001b[39m\u001b[38;5;124mage_range\u001b[39m\u001b[38;5;124m\"\u001b[39m)\n",
      "\u001b[0;31mNameError\u001b[0m: name 'age_list' is not defined"
     ]
    }
   ],
   "source": [
    "\n",
    "num_subs = 0\n",
    "for age_range in age_list: #age_list를 추가하기 \n",
    "    print(\"age_range\") #나중에 하기 "
   ]
  },
  {
   "cell_type": "code",
   "execution_count": null,
   "metadata": {},
   "outputs": [],
   "source": [
    "args.BIDS_dir"
   ]
  },
  {
   "cell_type": "code",
   "execution_count": null,
   "metadata": {},
   "outputs": [],
   "source": [
    "print(args.infant)"
   ]
  },
  {
   "cell_type": "code",
   "execution_count": null,
   "metadata": {},
   "outputs": [],
   "source": [
    "shell_folder = \"./step4_qsiprep_shells\"\n",
    "#os.mkdir(shell_folder)"
   ]
  },
  {
   "cell_type": "code",
   "execution_count": null,
   "metadata": {},
   "outputs": [],
   "source": [
    "with open(f\"{shell_folder})"
   ]
  },
  {
   "cell_type": "code",
   "execution_count": null,
   "metadata": {},
   "outputs": [],
   "source": [
    "with open(\"TEST_step4.sh\", 'r') as f:\n",
    "    a = f.read()\n",
    "print(a)\n",
    "    "
   ]
  },
  {
   "cell_type": "code",
   "execution_count": null,
   "metadata": {},
   "outputs": [],
   "source": [
    "a[:30]"
   ]
  },
  {
   "cell_type": "markdown",
   "metadata": {},
   "source": [
    "## 밑 : infant = True일때 하는 것들 (seperate py file 로 만들까?)"
   ]
  },
  {
   "cell_type": "code",
   "execution_count": null,
   "metadata": {},
   "outputs": [],
   "source": [
    "# -*- coding: utf-8 -*- \n",
    "\"\"\"1. SETUP\"\"\"\n",
    "import os\n",
    "from REAL_step0_get_infant_adult_df import get_info, get_year_file\n",
    "import pandas as pd\n",
    "import shutil\n",
    "import os\n",
    "import subprocess\n",
    "\n",
    "#get info templates\n",
    "infant_pd, adult_pd = get_info()()\n",
    "\n",
    "##SETUP THINGS\n",
    "MRI_path = \"/work2/08834/tg881334/stampede2/CHA_preproc/CHA_data_unzip/2010-2015/dicom_2010_2015\"\n",
    "age_list = [1, 1.5, 2, 2.5, 3, 3.5, 4, 4.5, 5, 5.5, 6, 7, 8, 9, 10, 13, 16, 18,20]\n",
    "\n",
    "##dataframe concat\n",
    "infant_df_list = []\n",
    "adult_df_list = []\n",
    "for year in infant_pd.keys():\n",
    "    infant_df_list.append(infant_pd[year].rename(columns = {\"Unnamed: 0\" : \"파일 유무\"})) #Unnamed : 0 으로 되어있는 것들을 파일유무라는 것으로 rename을 다시하기\n",
    "    \n",
    "for year in adult_pd.keys():\n",
    "    adult_df_list.append(adult_pd[year].rename(columns = {\"Unnamed: 0\" : \"파일 유무\"})) #Unnamed : 0 으로 되어있는 것들을 파일유무라는 것으로 rename을 다시하기\n",
    "\n",
    "#concat the things\n",
    "infant_df_total = pd.concat([i for i in infant_df_list])\n",
    "adult_df_total = pd.concat([i for i in adult_df_list])\n",
    "total_df = pd.concat([infant_df_total, adult_df_total])\n"
   ]
  },
  {
   "cell_type": "code",
   "execution_count": null,
   "metadata": {},
   "outputs": [],
   "source": [
    "total_df"
   ]
  },
  {
   "cell_type": "code",
   "execution_count": null,
   "metadata": {},
   "outputs": [],
   "source": [
    "sub_list = [i for i in os.listdir(args.BIDS_dir) if i !=\"dataset_description.json\"] #remove dataset_description"
   ]
  },
  {
   "cell_type": "code",
   "execution_count": null,
   "metadata": {},
   "outputs": [],
   "source": [
    "len(sub_list)"
   ]
  },
  {
   "cell_type": "code",
   "execution_count": null,
   "metadata": {},
   "outputs": [],
   "source": [
    "[:]"
   ]
  }
 ],
 "metadata": {
  "kernelspec": {
   "display_name": "CHA_preproc",
   "language": "python",
   "name": "cha_preproc"
  },
  "language_info": {
   "codemirror_mode": {
    "name": "ipython",
    "version": 3
   },
   "file_extension": ".py",
   "mimetype": "text/x-python",
   "name": "python",
   "nbconvert_exporter": "python",
   "pygments_lexer": "ipython3",
   "version": "3.10.4"
  }
 },
 "nbformat": 4,
 "nbformat_minor": 2
}
