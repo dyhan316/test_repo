{
 "cells": [
  {
   "cell_type": "code",
   "execution_count": 1,
   "metadata": {},
   "outputs": [
    {
     "data": {
      "text/html": [
       "<style>.container { width:100% !important; }</style>"
      ],
      "text/plain": [
       "<IPython.core.display.HTML object>"
      ]
     },
     "metadata": {},
     "output_type": "display_data"
    }
   ],
   "source": [
    "from IPython.display import display, HTML\n",
    "display(HTML(\"<style>.container { width:100% !important; }</style>\"))\n",
    "\n"
   ]
  },
  {
   "cell_type": "code",
   "execution_count": 2,
   "metadata": {},
   "outputs": [],
   "source": [
    "import os \n",
    "import pandas as pd \n",
    "import subprocess\n",
    "from pathlib import Path\n"
   ]
  },
  {
   "cell_type": "code",
   "execution_count": 3,
   "metadata": {},
   "outputs": [],
   "source": [
    "class Args():\n",
    "    def __init__(self):\n",
    "        self.base_dir = Path(os.getcwd())\n",
    "        self.step4_results_dir = Path(\"/scratch/08834/tg881334/CHA_preproc/3.qsipreproc_results_REAL\")\n",
    "        \n",
    "        \n",
    "        "
   ]
  },
  {
   "cell_type": "code",
   "execution_count": 4,
   "metadata": {},
   "outputs": [
    {
     "data": {
      "text/plain": [
       "PosixPath('/work2/08834/tg881334/stampede2/CHA_preproc/IMP_shell_scripts/IMP_MAIN_REAL_every_preprocessing')"
      ]
     },
     "execution_count": 4,
     "metadata": {},
     "output_type": "execute_result"
    }
   ],
   "source": [
    "Args().base_dir"
   ]
  },
  {
   "cell_type": "code",
   "execution_count": 6,
   "metadata": {},
   "outputs": [],
   "source": [
    "def check_fs_completion(fs_path, ok_count = 324):\n",
    "    \"\"\"\n",
    "    check whether fs result is ok (i.e. 다 되었는지), for subs in fs_path... \n",
    "    ok_count = 324로 default (if it is below this, then it's not OK (덜된 것 ))\n",
    "    \"\"\"\n",
    "    pass_dict = {} #passed dicts, whether they were sucessful or not \n",
    "    for sub_dir in fs_path.iterdir():\n",
    "        sub_name = os.path.basename(sub_dir)\n",
    "        if sub_name == \"fsaverage\": #skip when fsaverage \n",
    "            continue \n",
    "        tree_count_result = subprocess.run(f\"du -a {sub_dir} | wc -l\", shell = True, \n",
    "                                           capture_output= True, text=  True)\n",
    "        \n",
    "        fs_count = int(tree_count_result.stdout)\n",
    "        pass_dict[sub_name] = (fs_count == 324)                               \n",
    "    return pass_dict"
   ]
  },
  {
   "cell_type": "code",
   "execution_count": 8,
   "metadata": {
    "scrolled": false
   },
   "outputs": [
    {
     "name": "stdout",
     "output_type": "stream",
     "text": [
      "child, not implemented rn\n",
      "child, not implemented rn\n",
      "adult : /scratch/08834/tg881334/CHA_preproc/3.qsipreproc_results_REAL/age_5.5_to_6\n",
      "{'sub-150767': False, 'sub-160610': False, 'sub-140936': False, 'sub-141008': False, 'sub-160599': False, 'sub-160611': False, 'sub-111785': False, 'sub-101730': False, 'sub-190193': False, 'sub-190234': False, 'sub-170514': False, 'sub-180302': False, 'sub-141072': False, 'sub-111536': False, 'sub-190201': False, 'sub-160564': False, 'sub-160550': False, 'sub-160530': False, 'sub-141006': False, 'sub-190216': False, 'sub-131299': False, 'sub-111599': False, 'sub-180278': False, 'sub-141005': False, 'sub-160614': False, 'sub-190175': False, 'sub-141035': False, 'sub-101459': False, 'sub-160555': False, 'sub-141004': False, 'sub-141065': False, 'sub-200109': False, 'sub-121226': False, 'sub-190171': False, 'sub-111527': False, 'sub-141033': False}\n"
     ]
    }
   ],
   "source": [
    "args = Args()\n",
    "\n",
    "\n",
    "for age_dir in (args.step4_results_dir).iterdir():\n",
    "    lower_age = float(os.path.basename(age_dir).split('_')[1])\n",
    "    \n",
    "    fs_dir = age_dir / 'freesurfer'\n",
    "    qsi_dir = age_dir / 'qsiprep'\n",
    "    if lower_age >=4.5: #i.e. when adult,\n",
    "        print(f\"adult : {age_dir}\")\n",
    "        \n",
    "        #check fs, qsiprep completion\n",
    "        fs_completion = check_fs_completion(fs_dir, ok_count = 324)\n",
    "        \n",
    "        #\n",
    "        print(fs_completion)\n",
    "        break\n",
    "   \n",
    "\n",
    "    \n",
    "    else : #i.e. when child \n",
    "        print(\"child, not implemented rn\")"
   ]
  },
  {
   "cell_type": "code",
   "execution_count": null,
   "metadata": {},
   "outputs": [],
   "source": [
    "def check_qsiprep_copmletion(qsi_path, ok_count = 20):\n",
    "    \"\"\"\n",
    "    check whether qsiprep result is ok (i.e. 다 되었는지), for subs in qsi_path... \n",
    "    ok_count = 20로 default (if it is below this, then it's not OK (덜된 것 ))\n",
    "    \"\"\"\n",
    "    pass_dict = {} \n",
    "    prin(\"HI\")\n",
    "    "
   ]
  },
  {
   "cell_type": "code",
   "execution_count": null,
   "metadata": {},
   "outputs": [],
   "source": []
  },
  {
   "cell_type": "code",
   "execution_count": null,
   "metadata": {
    "scrolled": false
   },
   "outputs": [],
   "source": [
    "a = check_fs_completion(Path(\"/scratch/08834/tg881334/CHA_preproc/3.qsipreproc_results_REAL/age_9_to_10/freesurfer\"))\n"
   ]
  },
  {
   "cell_type": "code",
   "execution_count": null,
   "metadata": {},
   "outputs": [],
   "source": [
    "print(a)"
   ]
  },
  {
   "cell_type": "code",
   "execution_count": null,
   "metadata": {},
   "outputs": [],
   "source": [
    "a.values()"
   ]
  },
  {
   "cell_type": "code",
   "execution_count": null,
   "metadata": {},
   "outputs": [],
   "source": [
    "!module load tree "
   ]
  },
  {
   "cell_type": "code",
   "execution_count": null,
   "metadata": {},
   "outputs": [],
   "source": [
    "for i in (args.step4_results_dir).iterdir():\n",
    "    print(i)"
   ]
  },
  {
   "cell_type": "code",
   "execution_count": null,
   "metadata": {},
   "outputs": [],
   "source": []
  }
 ],
 "metadata": {
  "kernelspec": {
   "display_name": "CHA_preproc",
   "language": "python",
   "name": "cha_preproc"
  },
  "language_info": {
   "codemirror_mode": {
    "name": "ipython",
    "version": 3
   },
   "file_extension": ".py",
   "mimetype": "text/x-python",
   "name": "python",
   "nbconvert_exporter": "python",
   "pygments_lexer": "ipython3",
   "version": "3.10.4"
  }
 },
 "nbformat": 4,
 "nbformat_minor": 2
}
